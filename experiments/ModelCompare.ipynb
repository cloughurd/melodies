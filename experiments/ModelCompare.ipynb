{
 "cells": [
  {
   "cell_type": "code",
   "execution_count": null,
   "metadata": {},
   "outputs": [],
   "source": [
    "%load_ext autoreload\n",
    "%autoreload 2"
   ]
  },
  {
   "cell_type": "code",
   "execution_count": null,
   "metadata": {},
   "outputs": [],
   "source": [
    "import sys\n",
    "sys.path.insert(0, '../src/')\n",
    "import pandas as pd\n",
    "import numpy as np\n",
    "from sklearn.pipeline import Pipeline\n",
    "from sklearn.decomposition import PCA\n",
    "from sklearn.manifold import Isomap\n",
    "from sklearn.cluster import KMeans, SpectralClustering\n",
    "from sklearn.base import clone\n",
    "from sklearn.metrics import silhouette_score\n",
    "import matplotlib.pyplot as plt\n",
    "from pathlib import Path\n",
    "import pickle\n",
    "from datetime import datetime\n",
    "\n",
    "from preprocessing import BagOfNotes, MidiPathToDataFrame, PreprocessMidiDataFrame, NfIsf, BagOfChords2, Downsampler\n",
    "import evaluation"
   ]
  },
  {
   "cell_type": "code",
   "execution_count": null,
   "metadata": {},
   "outputs": [],
   "source": [
    "data_dir = Path('../maestro/maestro-v3.0.0/')\n",
    "# df = pd.read_csv(data_dir / 'maestro-v3.0.0.csv')\n",
    "df = pd.read_csv('../eda/no_dups.csv', index_col=0)\n",
    "keys = pd.read_csv('../eda/key_review.csv')\n",
    "categories = pd.read_csv('../eda/categories.csv')\n",
    "df = pd.merge(df, keys, how='left', on='canonical_title')\n",
    "df = pd.merge(df, categories, how='left', on='canonical_title')\n",
    "df.head()"
   ]
  },
  {
   "cell_type": "code",
   "execution_count": null,
   "metadata": {},
   "outputs": [],
   "source": [
    "train = df[df.split == 'train']\n",
    "validate = df[df.split == 'validation']"
   ]
  },
  {
   "cell_type": "code",
   "execution_count": null,
   "metadata": {},
   "outputs": [],
   "source": [
    "print(train.shape)"
   ]
  },
  {
   "cell_type": "code",
   "execution_count": null,
   "metadata": {},
   "outputs": [],
   "source": [
    "do_once = Pipeline([\n",
    "    ('loader', MidiPathToDataFrame(data_dir)),\n",
    "    ('cleaner', PreprocessMidiDataFrame()),\n",
    "])\n",
    "train_loaded = do_once.transform(train.midi_filename)\n",
    "val_loaded = do_once.transform(validate.midi_filename)\n"
   ]
  },
  {
   "cell_type": "code",
   "execution_count": null,
   "metadata": {},
   "outputs": [],
   "source": [
    "vectorizers = [\n",
    "    ('BoN', BagOfNotes(normalize=False)),\n",
    "    ('nBoN', BagOfNotes(normalize=True)),\n",
    "    ('VW-nBoN', BagOfNotes(normalize=True, weight_by_velocity=True)),\n",
    "    ('DW-nBoN', BagOfNotes(normalize=True, weight_by_duration=True)),\n",
    "    ('VDW-nBoN', BagOfNotes(normalize=True, weight_by_velocity=True, weight_by_duration=True)),\n",
    "    ('nBoDN', BagOfNotes(normalize=True, reduce_to_distinct=True)),\n",
    "    ('BoC', BagOfChords2(time_threshold=30, vocab_size=500)),\n",
    "    ('BoC', BagOfChords2(time_threshold=30, vocab_size=1000, reduce_to_distinct=True)),\n",
    "    # ('BoC', Pipeline([('Downsample', Downsampler(n_samples=500)), ('BoC', BagOfChords2(time_threshold=30, vocab_size=500))])),\n",
    "    ('NfIsf', NfIsf()),\n",
    "]\n",
    "reducers = [\n",
    "    ('PCA2', PCA(2)),\n",
    "    # ('PCA4', PCA(4)),\n",
    "    ('ISO2', Isomap(n_neighbors=15, n_components=2)),\n",
    "    # ('Iso4', Isomap(n_neighbors=15, n_components=4)),\n",
    "]\n",
    "clusterers = [\n",
    "    ('kmeans', KMeans(n_clusters=20, n_init=10, random_state=6740*42)),\n",
    "    # ('spectral', SpectralClustering())\n",
    "]\n",
    "models = {}\n",
    "results = {}\n",
    "for v in vectorizers:\n",
    "    for r in reducers:\n",
    "        for c in clusterers:\n",
    "            p = Pipeline([\n",
    "                v,\n",
    "                r,\n",
    "                c,\n",
    "            ])\n",
    "            p = clone(p)\n",
    "            p.fit(train_loaded)\n",
    "            embeddings = p[:2].transform(val_loaded)\n",
    "            clusters = p[2].predict(embeddings)\n",
    "            scores = evaluation.evaluate_clusters(clusters, validate[['canonical_composer', 'draft_key', 'category']])\n",
    "            name = f'{v[0]}-{r[0]}'\n",
    "            for s in scores:\n",
    "                evaluation.plot_with_label(embeddings, validate[s], f'{name} (homogeneity={scores[s]:.4f})')\n",
    "            silhouette = silhouette_score(embeddings, clusters)\n",
    "            scores['silhouette'] = silhouette\n",
    "            models[name] = p\n",
    "            results[name] = scores"
   ]
  },
  {
   "cell_type": "code",
   "execution_count": null,
   "metadata": {},
   "outputs": [],
   "source": [
    "with open(f'models_{datetime.today().strftime('%Y%m%d')}.pkl', 'wb') as f:\n",
    "    pickle.dump(models, f)"
   ]
  },
  {
   "cell_type": "code",
   "execution_count": null,
   "metadata": {},
   "outputs": [],
   "source": [
    "result_df = pd.DataFrame.from_dict(results, orient='index')\n",
    "result_df"
   ]
  },
  {
   "cell_type": "code",
   "execution_count": null,
   "metadata": {},
   "outputs": [],
   "source": [
    "result_df.to_csv(f'results_{datetime.today().strftime('%Y%m%d')}.csv')"
   ]
  },
  {
   "cell_type": "code",
   "execution_count": null,
   "metadata": {},
   "outputs": [],
   "source": []
  }
 ],
 "metadata": {
  "kernelspec": {
   "display_name": "Python 3",
   "language": "python",
   "name": "python3"
  },
  "language_info": {
   "codemirror_mode": {
    "name": "ipython",
    "version": 3
   },
   "file_extension": ".py",
   "mimetype": "text/x-python",
   "name": "python",
   "nbconvert_exporter": "python",
   "pygments_lexer": "ipython3",
   "version": "3.12.10"
  }
 },
 "nbformat": 4,
 "nbformat_minor": 2
}
